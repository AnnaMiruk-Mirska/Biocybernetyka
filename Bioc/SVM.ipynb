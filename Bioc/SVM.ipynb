{
 "cells": [
  {
   "cell_type": "markdown",
   "metadata": {},
   "source": [
    "#### SVM Classification "
   ]
  },
  {
   "cell_type": "code",
   "execution_count": 3,
   "metadata": {},
   "outputs": [],
   "source": [
    "import numpy as np\n",
    "#Load data from generated numpy files\n",
    "X = np.load('feat.npy') # list of features\n",
    "y = np.load('label.npy').ravel() # labels are the target"
   ]
  },
  {
   "cell_type": "code",
   "execution_count": 4,
   "metadata": {},
   "outputs": [
    {
     "name": "stdout",
     "output_type": "stream",
     "text": [
      "Final accuracy = 0.9439\n"
     ]
    }
   ],
   "source": [
    "# coding= UTF-8\n",
    "import numpy as np \n",
    "import sklearn\n",
    "from sklearn.svm import SVC, LinearSVC\n",
    "from sklearn.model_selection import train_test_split\n",
    "from sklearn.model_selection import GridSearchCV\n",
    "from sklearn.metrics import classification_report\n",
    "from sklearn.metrics import accuracy_score\n",
    "from sklearn.preprocessing import StandardScaler\n",
    "\n",
    "from sklearn.model_selection import RandomizedSearchCV\n",
    "from scipy.stats import reciprocal, uniform\n",
    "\n",
    "#Load data from generated numpy files\n",
    "X = np.load('feat.npy') # list of features\n",
    "y = np.load('label.npy').ravel() # labels are the target\n",
    "\n",
    "# Fix random seed number\n",
    "np.random.seed(7)\n",
    "\n",
    "# Load the data\n",
    "X_train, X_test, y_train, y_test = train_test_split(X, y, test_size=0.3, random_state=30) \n",
    "\n",
    "# SVM classifier\n",
    "svm_clf = SVC(C=200, gamma = 0.0001, kernel='rbf', decision_function_shape=\"ovr\") \n",
    "#svm_clf = LinearSVC(random_state=42) # HandsOn git\n",
    "\n",
    "# Fit model\n",
    "svm_clf.fit(X_train, y_train) #From Beif github\n",
    "\n",
    "# Predictions\n",
    "y_predict = svm_clf.predict(X_test)\n",
    "\n",
    "# Accuracy Result\n",
    "acc = svm_clf.score(X_test, y_test)\n",
    "print\n",
    "print(\"Final accuracy = %0.4f\" %acc)\n",
    "#print('\\n')\n",
    "#print(classification_report(y_test, y_predict)) "
   ]
  },
  {
   "cell_type": "markdown",
   "metadata": {},
   "source": [
    "##### Compute Confussion Matrix"
   ]
  },
  {
   "cell_type": "code",
   "execution_count": 5,
   "metadata": {},
   "outputs": [
    {
     "ename": "NameError",
     "evalue": "name 'pd' is not defined",
     "output_type": "error",
     "traceback": [
      "\u001b[1;31m---------------------------------------------------------------------------\u001b[0m",
      "\u001b[1;31mNameError\u001b[0m                                 Traceback (most recent call last)",
      "Cell \u001b[1;32mIn[5], line 10\u001b[0m\n\u001b[0;32m      7\u001b[0m actual_value_decoded \u001b[38;5;241m=\u001b[39m label_classes[y_test]\n\u001b[0;32m      9\u001b[0m \u001b[38;5;66;03m#Compute confusion matrix\u001b[39;00m\n\u001b[1;32m---> 10\u001b[0m \u001b[43mpd\u001b[49m\u001b[38;5;241m.\u001b[39mcrosstab(actual_value_decoded, prediction_decoded)\n",
      "\u001b[1;31mNameError\u001b[0m: name 'pd' is not defined"
     ]
    }
   ],
   "source": [
    "# Label integer encoding \n",
    "label_classes = np.array(['Low','Intermediate','High'])\n",
    "#print(label_classes)\n",
    "\n",
    "# De-encoding predicted and actual classes (going from numeric to written)\n",
    "prediction_decoded = label_classes[y_predict]\n",
    "actual_value_decoded = label_classes[y_test]\n",
    "\n",
    "#Compute confusion matrix\n",
    "pd.crosstab(actual_value_decoded, prediction_decoded)"
   ]
  },
  {
   "cell_type": "code",
   "execution_count": null,
   "metadata": {},
   "outputs": [],
   "source": []
  }
 ],
 "metadata": {
  "kernelspec": {
   "display_name": "Python 3 (ipykernel)",
   "language": "python",
   "name": "python3"
  },
  "language_info": {
   "codemirror_mode": {
    "name": "ipython",
    "version": 3
   },
   "file_extension": ".py",
   "mimetype": "text/x-python",
   "name": "python",
   "nbconvert_exporter": "python",
   "pygments_lexer": "ipython3",
   "version": "3.10.4"
  }
 },
 "nbformat": 4,
 "nbformat_minor": 4
}
