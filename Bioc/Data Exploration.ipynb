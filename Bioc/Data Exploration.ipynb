{
 "cells": [
  {
   "cell_type": "markdown",
   "metadata": {},
   "source": [
    "### Data Exploration\n",
    "- In this step we explore the Librosa module for audio feature visualization"
   ]
  },
  {
   "cell_type": "code",
   "execution_count": 3,
   "metadata": {},
   "outputs": [
    {
     "name": "stdout",
     "output_type": "stream",
     "text": [
      "['Low' 'Intermediate' 'High']\n"
     ]
    }
   ],
   "source": [
    "#Load Data\n",
    "import numpy as np\n",
    "labels = np.load('label.npy') \n",
    "\n",
    "# For label integer  de-encoding\n",
    "label_classes = np.array(['Low','Intermediate','High'])\n",
    "print(label_classes)"
   ]
  },
  {
   "cell_type": "code",
   "execution_count": 4,
   "metadata": {},
   "outputs": [
    {
     "ename": "NameError",
     "evalue": "name 'features' is not defined",
     "output_type": "error",
     "traceback": [
      "\u001b[1;31m---------------------------------------------------------------------------\u001b[0m",
      "\u001b[1;31mNameError\u001b[0m                                 Traceback (most recent call last)",
      "Cell \u001b[1;32mIn[4], line 3\u001b[0m\n\u001b[0;32m      1\u001b[0m \u001b[38;5;66;03m#Pandas dataframe with N features for each audio\u001b[39;00m\n\u001b[0;32m      2\u001b[0m \u001b[38;5;28;01mimport\u001b[39;00m \u001b[38;5;21;01mpandas\u001b[39;00m \u001b[38;5;28;01mas\u001b[39;00m \u001b[38;5;21;01mpd\u001b[39;00m\n\u001b[1;32m----> 3\u001b[0m df \u001b[38;5;241m=\u001b[39m pd\u001b[38;5;241m.\u001b[39mDataFrame(\u001b[43mfeatures\u001b[49m)\n\u001b[0;32m      4\u001b[0m df\u001b[38;5;241m.\u001b[39mhead()\n",
      "\u001b[1;31mNameError\u001b[0m: name 'features' is not defined"
     ]
    }
   ],
   "source": [
    "#Pandas dataframe with N features for each audio\n",
    "import pandas as pd\n",
    "df = pd.DataFrame(features)\n",
    "df.head()"
   ]
  },
  {
   "cell_type": "markdown",
   "metadata": {},
   "source": [
    "#### Visualize MFCC series for all audio segments"
   ]
  },
  {
   "cell_type": "code",
   "execution_count": null,
   "metadata": {},
   "outputs": [],
   "source": [
    "import matplotlib.pyplot as plt\n",
    "import librosa.display\n",
    "plt.figure(figsize=(13, 6))\n",
    "librosa.display.specshow(features, x_axis='time')\n",
    "plt.colorbar()\n",
    "plt.title('MFCCs = 5 Values for 5s Audio Frames (High Class)')\n",
    "plt.tight_layout()\n",
    "#plt.savefig('test saving.png')"
   ]
  },
  {
   "cell_type": "markdown",
   "metadata": {},
   "source": [
    "#### Plot of spectrograms using Librosa module\n",
    "- Reference: https://librosa.github.io/librosa/generated/librosa.display.specshow.html"
   ]
  },
  {
   "cell_type": "code",
   "execution_count": null,
   "metadata": {},
   "outputs": [],
   "source": [
    "#Visualize an STFT power spectrum\n",
    "import matplotlib.pyplot as plt\n",
    "y , sr = librosa.load('audio-data/001 - Low/Avalinguo - Xoca and Josué segment 100 - J.mp3', sr=None) # Using my own audio segment\n",
    "#y, sr = librosa.load(librosa.util.example_audio_file())\n",
    "plt.figure(figsize=(20, 15))\n",
    "D = librosa.amplitude_to_db(librosa.stft(y), ref=np.max) #Convert amplitude into db\n",
    "plt.subplot(4, 2, 1)\n",
    "librosa.display.specshow(D, y_axis='linear') #Linear Scale\n",
    "plt.colorbar(format='%+2.0f dB')\n",
    "plt.title('Linear-frequency power spectrogram')\n",
    "\n",
    "# The above one on a logarithmic scale\n",
    "plt.subplot(4, 2, 2)\n",
    "#plt.figure(figsize=(20, 10))\n",
    "librosa.display.specshow(D, y_axis='log') #Log scale\n",
    "plt.colorbar(format='%+2.0f dB')\n",
    "plt.title('Log-frequency power spectrogram')\n",
    "\n",
    "# Draw a chromagram with pitch classes\n",
    "C = librosa.feature.chroma_cqt(y=y, sr=sr)\n",
    "plt.subplot(4, 2, 3)\n",
    "librosa.display.specshow(C, y_axis='chroma')\n",
    "plt.colorbar()\n",
    "plt.title('Chromagram')\n",
    "\n",
    "#Force a grayscale colormap (white -> black)\n",
    "plt.subplot(4, 2, 4)\n",
    "librosa.display.specshow(D, cmap='gray_r', y_axis='linear')\n",
    "plt.colorbar(format='%+2.0f dB')\n",
    "plt.title('Linear power spectrogram (grayscale)')"
   ]
  }
 ],
 "metadata": {
  "kernelspec": {
   "display_name": "Python 3 (ipykernel)",
   "language": "python",
   "name": "python3"
  },
  "language_info": {
   "codemirror_mode": {
    "name": "ipython",
    "version": 3
   },
   "file_extension": ".py",
   "mimetype": "text/x-python",
   "name": "python",
   "nbconvert_exporter": "python",
   "pygments_lexer": "ipython3",
   "version": "3.10.4"
  }
 },
 "nbformat": 4,
 "nbformat_minor": 4
}
