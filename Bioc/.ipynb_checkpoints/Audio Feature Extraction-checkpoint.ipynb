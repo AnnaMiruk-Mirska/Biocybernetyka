{
 "cells": [
  {
   "cell_type": "markdown",
   "metadata": {},
   "source": [
    "### Audio Feature Extraction"
   ]
  },
  {
   "cell_type": "markdown",
   "metadata": {},
   "source": [
    "- Why we take only 12-13 MFCC coefficients in feature extraction? https://www.researchgate.net/post/Why_we_take_only_12-13_MFCC_coefficients_in_feature_extraction\n",
    "- MFCC - Significance of number of features: https://dsp.stackexchange.com/questions/28898/mfcc-significance-of-number-of-features\n",
    "- Even though higher order coefficients represent increasing levels of spectral details, depending on the sampling rate and estimation method, 12 to 20 cepstral coefficients are typically optimal for speech analysis. Selecting a large number of cepstral coefficients results in more complexity in the models. For example, if we intend to model a speech signal by a Gaussian mixture model (GMM), if a large number of cepstral coefficients is used, we typically need more data in order to accurately estimate the parameters of the GMM."
   ]
  },
  {
   "cell_type": "code",
   "execution_count": 14,
   "metadata": {},
   "outputs": [],
   "source": [
    "# coding= UTF-8\n",
    "import glob\n",
    "import os\n",
    "import librosa\n",
    "import numpy as np\n",
    "import matplotlib.pyplot as plt\n",
    "from matplotlib.pyplot import specgram\n",
    "import soundfile as sf\n",
    "\n",
    "##Return audio features \n",
    "def feature_extraction(file_name):\n",
    "    #X, sample_rate = sf.read(file_name, dtype='float32')\n",
    "    X , sample_rate = librosa.load(file_name, sr=None) #Can also load file using librosa\n",
    "    if X.ndim > 1:\n",
    "        X = X[:,0]\n",
    "    X = X.T\n",
    "    \n",
    "    ## stFourier Transform\n",
    "    stft = np.abs(librosa.stft(X))\n",
    "            \n",
    "    mfccs = np.mean(librosa.feature.mfcc(y=X, sr=sample_rate, n_mfcc=20).T, axis=0) #Returns N_mel coefs\n",
    "    rmse = np.mean(librosa.feature.rmse(y=X).T, axis=0) #RMS Energy for each Frame (Stanford's). Returns 1 value \n",
    "    spectral_flux = np.mean(librosa.onset.onset_strength(y=X, sr=sample_rate).T, axis=0) #Spectral Flux (Stanford's). Returns 1 Value\n",
    "    zcr = np.mean(librosa.feature.zero_crossing_rate(y=X).T, axis=0) #Returns 1 value\n",
    "    \n",
    "    #mel = np.mean(librosa.feature.melspectrogram(X, sr=sample_rate).T, axis=0) #Returns 128 values\n",
    "    #chroma = np.mean(librosa.feature.chroma_stft(S=stft, sr=sample_rate).T, axis=0) #Returns 12 values\n",
    "    #contrast = np.mean(librosa.feature.spectral_contrast(S=stft, sr=sample_rate).T, axis=0) #Returns 7 values\n",
    "    #tonnetz = np.mean(librosa.feature.tonnetz(y=librosa.effects.harmonic(X), sr=sample_rate).T, axis=0) #tonal centroid features Returns 6 values\n",
    "    \n",
    "    ##Return computed audio features\n",
    "    return mfccs, rmse, spectral_flux, zcr\n",
    "    \n",
    "# Audio parsing: Function makes call for feature extraction and returns array with features and labels \n",
    "def parse_audio_files(parent_dir, sub_dirs, file_ext='*.mp3'): # Audio Format\n",
    "\n",
    "    n_mfccs = 20 # This variable is tunneable with each run\n",
    "    number_of_features = 3 + n_mfccs\n",
    "    #number_of_features = 154 + n_mfccs # 154 are the total values returned by rest of computed features\n",
    "    features, labels = np.empty((0,number_of_features)), np.empty(0)\n",
    "    \n",
    "    ##Extract features for each audio file\n",
    "    for label, sub_dir in enumerate(sub_dirs): ##The enumerate() function adds a counter to an iterable.\n",
    "        for file_name in glob.glob(os.path.join(parent_dir, sub_dir, file_ext)): ##parent is data, sub_dirs are the classes\n",
    "            print (\"Actual File Name: \", file_name)\n",
    "            try:\n",
    "                mfccs, rmse, spectral_flux, zcr = feature_extraction(file_name)\n",
    "                #mfccs, zcr, mel, chroma, contrast, tonnetz = feature_extraction(file_name)\n",
    "            except Exception as e:\n",
    "                print(\"[Error] there was an error in feature extraction. %s\" % (e))\n",
    "                continue\n",
    "             \n",
    "            extracted_features = np.hstack([mfccs, rmse, spectral_flux, zcr])\n",
    "            #extracted_features = np.hstack([mfccs, zcr, mel, chroma, contrast, tonnetz]) #Stack arrays in sequence horizontally (column wise)\n",
    "            #print \"Total Extracted Features: \", len(extracted_features) #This helps us identify really how many features are being computed\n",
    "            features = np.vstack([features, extracted_features]) #Stack arrays in sequence vertically (row wise).\n",
    "            labels = np.append(labels, label)\n",
    "        print(\"Extract\")"
   ]
  },
  {
   "cell_type": "code",
   "execution_count": 15,
   "metadata": {},
   "outputs": [
    {
     "name": "stdout",
     "output_type": "stream",
     "text": [
      "Audio Subdirs:  ['High', 'Intermediate', 'Low']\n"
     ]
    }
   ],
   "source": [
    "#Read audio classes directories\n",
    "import os\n",
    "audio_subdirectories = os.listdir(\"audio files/\") #Path to data folder.\n",
    "audio_subdirectories.sort()\n",
    "print ('Audio Subdirs: ', audio_subdirectories)"
   ]
  },
  {
   "cell_type": "code",
   "execution_count": 16,
   "metadata": {},
   "outputs": [
    {
     "name": "stdout",
     "output_type": "stream",
     "text": [
      "Extract\n",
      "Extract\n",
      "Extract\n"
     ]
    },
    {
     "ename": "TypeError",
     "evalue": "cannot unpack non-iterable NoneType object",
     "output_type": "error",
     "traceback": [
      "\u001b[1;31m---------------------------------------------------------------------------\u001b[0m",
      "\u001b[1;31mTypeError\u001b[0m                                 Traceback (most recent call last)",
      "Cell \u001b[1;32mIn[16], line 5\u001b[0m\n\u001b[0;32m      1\u001b[0m \u001b[38;5;66;03m##Get features and labels\u001b[39;00m\n\u001b[0;32m      2\u001b[0m \u001b[38;5;66;03m#This generates two numpy files. One npy file with feature vectors corresponding each audio file. The other with labels.\u001b[39;00m\n\u001b[0;32m      3\u001b[0m \n\u001b[0;32m      4\u001b[0m \u001b[38;5;66;03m# Parse Audio Files Function Call\u001b[39;00m\n\u001b[1;32m----> 5\u001b[0m features, labels \u001b[38;5;241m=\u001b[39m parse_audio_files(\u001b[38;5;124m'\u001b[39m\u001b[38;5;124maudio files\u001b[39m\u001b[38;5;124m'\u001b[39m, audio_subdirectories) \u001b[38;5;66;03m#(parent dir,sub dirs)\u001b[39;00m\n\u001b[0;32m      6\u001b[0m np\u001b[38;5;241m.\u001b[39msave(\u001b[38;5;124m'\u001b[39m\u001b[38;5;124mfeat.npy\u001b[39m\u001b[38;5;124m'\u001b[39m, features) \n\u001b[0;32m      7\u001b[0m np\u001b[38;5;241m.\u001b[39msave(\u001b[38;5;124m'\u001b[39m\u001b[38;5;124mlabel.npy\u001b[39m\u001b[38;5;124m'\u001b[39m, labels)\n",
      "\u001b[1;31mTypeError\u001b[0m: cannot unpack non-iterable NoneType object"
     ]
    }
   ],
   "source": [
    "##Get features and labels\n",
    "#This generates two numpy files. One npy file with feature vectors corresponding each audio file. The other with labels.\n",
    "\n",
    "# Parse Audio Files Function Call\n",
    "features, labels = parse_audio_files('audio files', audio_subdirectories) #(parent dir,sub dirs)\n",
    "np.save('feat.npy', features) \n",
    "np.save('label.npy', labels)"
   ]
  },
  {
   "cell_type": "code",
   "execution_count": null,
   "metadata": {},
   "outputs": [],
   "source": []
  }
 ],
 "metadata": {
  "kernelspec": {
   "display_name": "Python 3 (ipykernel)",
   "language": "python",
   "name": "python3"
  },
  "language_info": {
   "codemirror_mode": {
    "name": "ipython",
    "version": 3
   },
   "file_extension": ".py",
   "mimetype": "text/x-python",
   "name": "python",
   "nbconvert_exporter": "python",
   "pygments_lexer": "ipython3",
   "version": "3.10.4"
  }
 },
 "nbformat": 4,
 "nbformat_minor": 4
}
